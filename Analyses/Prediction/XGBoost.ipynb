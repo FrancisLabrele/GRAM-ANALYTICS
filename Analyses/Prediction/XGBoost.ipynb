{
 "cells": [
  {
   "cell_type": "markdown",
   "id": "f146d776",
   "metadata": {},
   "source": [
    "Code pour xgboost"
   ]
  }
 ],
 "metadata": {
  "language_info": {
   "name": "python"
  }
 },
 "nbformat": 4,
 "nbformat_minor": 5
}
