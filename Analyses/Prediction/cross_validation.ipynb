{
 "cells": [
  {
   "cell_type": "markdown",
   "id": "90d64451",
   "metadata": {},
   "source": [
    "Le but de ce notebook est de réaliser du feature engineering afin d’évaluer si cela améliore les performances du modèle Random Forest,et la regression logistique notamment en introduisant des variables comme la pente, l'asymétrie et la fréquence de courbure.\n",
    "\n"
   ]
  },
  {
   "cell_type": "code",
   "execution_count": 1,
   "id": "96a33741",
   "metadata": {},
   "outputs": [],
   "source": [
    "import numpy as np\n",
    "import pandas as pd\n",
    "from sklearn.model_selection import train_test_split\n",
    "from sklearn.model_selection import cross_val_predict\n",
    "from sklearn.ensemble import RandomForestClassifier\n",
    "from sklearn.metrics import confusion_matrix, classification_report,make_scorer, precision_score, recall_score, f1_score, accuracy_score\n",
    "import scipy.stats as stats\n",
    "import matplotlib.pyplot as plt\n",
    "import seaborn as sns"
   ]
  },
  {
   "cell_type": "markdown",
   "id": "1bfd6b90",
   "metadata": {},
   "source": [
    "# Pour lire le dataset"
   ]
  },
  {
   "cell_type": "code",
   "execution_count": null,
   "id": "5f61f155",
   "metadata": {},
   "outputs": [
    {
     "ename": "ModuleNotFoundError",
     "evalue": "No module named 'codecarbon'",
     "output_type": "error",
     "traceback": [
      "\u001b[1;31m---------------------------------------------------------------------------\u001b[0m",
      "\u001b[1;31mModuleNotFoundError\u001b[0m                       Traceback (most recent call last)",
      "Cell \u001b[1;32mIn[2], line 1\u001b[0m\n\u001b[1;32m----> 1\u001b[0m \u001b[38;5;28;01mfrom\u001b[39;00m \u001b[38;5;21;01mcodecarbon\u001b[39;00m \u001b[38;5;28;01mimport\u001b[39;00m EmissionsTracker\n\u001b[0;32m      2\u001b[0m tracker \u001b[38;5;241m=\u001b[39m EmissionsTracker()\n\u001b[0;32m      3\u001b[0m tracker\u001b[38;5;241m.\u001b[39mstart()\n",
      "\u001b[1;31mModuleNotFoundError\u001b[0m: No module named 'codecarbon'"
     ]
    }
   ],
   "source": [
    "\n",
    "data = pd.read_csv(r\"../../Data/Cleaned_Dataframe.csv\",sep=';')\n",
    "display(data.head())"
   ]
  },
  {
   "cell_type": "markdown",
   "id": "d2c18fa1",
   "metadata": {},
   "source": [
    "# Encodage des variables"
   ]
  },
  {
   "cell_type": "code",
   "execution_count": 20,
   "id": "3575a41d",
   "metadata": {},
   "outputs": [
    {
     "data": {
      "text/html": [
       "<div>\n",
       "<style scoped>\n",
       "    .dataframe tbody tr th:only-of-type {\n",
       "        vertical-align: middle;\n",
       "    }\n",
       "\n",
       "    .dataframe tbody tr th {\n",
       "        vertical-align: top;\n",
       "    }\n",
       "\n",
       "    .dataframe thead th {\n",
       "        text-align: right;\n",
       "    }\n",
       "</style>\n",
       "<table border=\"1\" class=\"dataframe\">\n",
       "  <thead>\n",
       "    <tr style=\"text-align: right;\">\n",
       "      <th></th>\n",
       "      <th>ID_CLIENT</th>\n",
       "      <th>ANTECEDENT_FAMILIAUX</th>\n",
       "      <th>ACOUPHENES</th>\n",
       "      <th>DIABETE</th>\n",
       "      <th>EXPOSITION</th>\n",
       "      <th>AGE</th>\n",
       "      <th>SEXE</th>\n",
       "      <th>FREQ_250_D_THR</th>\n",
       "      <th>FREQ_250_G_THR</th>\n",
       "      <th>FREQ_250_D_UCL</th>\n",
       "      <th>...</th>\n",
       "      <th>FREQ_2000_D_UCL</th>\n",
       "      <th>FREQ_2000_G_UCL</th>\n",
       "      <th>FREQ_4000_D_THR</th>\n",
       "      <th>FREQ_4000_G_THR</th>\n",
       "      <th>FREQ_4000_D_UCL</th>\n",
       "      <th>FREQ_4000_G_UCL</th>\n",
       "      <th>FREQ_8000_D_THR</th>\n",
       "      <th>FREQ_8000_G_THR</th>\n",
       "      <th>FREQ_8000_D_UCL</th>\n",
       "      <th>FREQ_8000_G_UCL</th>\n",
       "    </tr>\n",
       "  </thead>\n",
       "  <tbody>\n",
       "    <tr>\n",
       "      <th>0</th>\n",
       "      <td>1</td>\n",
       "      <td>0.0</td>\n",
       "      <td>1</td>\n",
       "      <td>0.0</td>\n",
       "      <td>1.0</td>\n",
       "      <td>55.0</td>\n",
       "      <td>1.0</td>\n",
       "      <td>20.0</td>\n",
       "      <td>30.0</td>\n",
       "      <td>100.0</td>\n",
       "      <td>...</td>\n",
       "      <td>110</td>\n",
       "      <td>110</td>\n",
       "      <td>60</td>\n",
       "      <td>65</td>\n",
       "      <td>110</td>\n",
       "      <td>110</td>\n",
       "      <td>NaN</td>\n",
       "      <td>NaN</td>\n",
       "      <td>NaN</td>\n",
       "      <td>NaN</td>\n",
       "    </tr>\n",
       "    <tr>\n",
       "      <th>1</th>\n",
       "      <td>105</td>\n",
       "      <td>0.0</td>\n",
       "      <td>1</td>\n",
       "      <td>0.0</td>\n",
       "      <td>0.0</td>\n",
       "      <td>77.0</td>\n",
       "      <td>0.0</td>\n",
       "      <td>20.0</td>\n",
       "      <td>35.0</td>\n",
       "      <td>100.0</td>\n",
       "      <td>...</td>\n",
       "      <td>110</td>\n",
       "      <td>110</td>\n",
       "      <td>60</td>\n",
       "      <td>65</td>\n",
       "      <td>115</td>\n",
       "      <td>120</td>\n",
       "      <td>60.0</td>\n",
       "      <td>60.0</td>\n",
       "      <td>NaN</td>\n",
       "      <td>NaN</td>\n",
       "    </tr>\n",
       "    <tr>\n",
       "      <th>2</th>\n",
       "      <td>162</td>\n",
       "      <td>0.0</td>\n",
       "      <td>1</td>\n",
       "      <td>0.0</td>\n",
       "      <td>0.0</td>\n",
       "      <td>63.0</td>\n",
       "      <td>0.0</td>\n",
       "      <td>25.0</td>\n",
       "      <td>30.0</td>\n",
       "      <td>85.0</td>\n",
       "      <td>...</td>\n",
       "      <td>105</td>\n",
       "      <td>105</td>\n",
       "      <td>105</td>\n",
       "      <td>100</td>\n",
       "      <td>120</td>\n",
       "      <td>115</td>\n",
       "      <td>105.0</td>\n",
       "      <td>105.0</td>\n",
       "      <td>NaN</td>\n",
       "      <td>NaN</td>\n",
       "    </tr>\n",
       "    <tr>\n",
       "      <th>3</th>\n",
       "      <td>345</td>\n",
       "      <td>0.0</td>\n",
       "      <td>1</td>\n",
       "      <td>0.0</td>\n",
       "      <td>1.0</td>\n",
       "      <td>65.0</td>\n",
       "      <td>0.0</td>\n",
       "      <td>25.0</td>\n",
       "      <td>15.0</td>\n",
       "      <td>95.0</td>\n",
       "      <td>...</td>\n",
       "      <td>100</td>\n",
       "      <td>95</td>\n",
       "      <td>15</td>\n",
       "      <td>10</td>\n",
       "      <td>90</td>\n",
       "      <td>100</td>\n",
       "      <td>40.0</td>\n",
       "      <td>35.0</td>\n",
       "      <td>90.0</td>\n",
       "      <td>85.0</td>\n",
       "    </tr>\n",
       "    <tr>\n",
       "      <th>4</th>\n",
       "      <td>1120</td>\n",
       "      <td>0.0</td>\n",
       "      <td>1</td>\n",
       "      <td>0.0</td>\n",
       "      <td>1.0</td>\n",
       "      <td>0.0</td>\n",
       "      <td>0.0</td>\n",
       "      <td>15.0</td>\n",
       "      <td>10.0</td>\n",
       "      <td>83.0</td>\n",
       "      <td>...</td>\n",
       "      <td>89</td>\n",
       "      <td>87</td>\n",
       "      <td>30</td>\n",
       "      <td>35</td>\n",
       "      <td>90</td>\n",
       "      <td>94</td>\n",
       "      <td>90.0</td>\n",
       "      <td>95.0</td>\n",
       "      <td>NaN</td>\n",
       "      <td>NaN</td>\n",
       "    </tr>\n",
       "  </tbody>\n",
       "</table>\n",
       "<p>5 rows × 31 columns</p>\n",
       "</div>"
      ],
      "text/plain": [
       "  ID_CLIENT  ANTECEDENT_FAMILIAUX  ACOUPHENES  DIABETE  EXPOSITION   AGE  \\\n",
       "0         1                   0.0           1      0.0         1.0  55.0   \n",
       "1       105                   0.0           1      0.0         0.0  77.0   \n",
       "2       162                   0.0           1      0.0         0.0  63.0   \n",
       "3       345                   0.0           1      0.0         1.0  65.0   \n",
       "4      1120                   0.0           1      0.0         1.0   0.0   \n",
       "\n",
       "   SEXE  FREQ_250_D_THR  FREQ_250_G_THR  FREQ_250_D_UCL  ...  FREQ_2000_D_UCL  \\\n",
       "0   1.0            20.0            30.0           100.0  ...              110   \n",
       "1   0.0            20.0            35.0           100.0  ...              110   \n",
       "2   0.0            25.0            30.0            85.0  ...              105   \n",
       "3   0.0            25.0            15.0            95.0  ...              100   \n",
       "4   0.0            15.0            10.0            83.0  ...               89   \n",
       "\n",
       "   FREQ_2000_G_UCL  FREQ_4000_D_THR  FREQ_4000_G_THR  FREQ_4000_D_UCL  \\\n",
       "0              110               60               65              110   \n",
       "1              110               60               65              115   \n",
       "2              105              105              100              120   \n",
       "3               95               15               10               90   \n",
       "4               87               30               35               90   \n",
       "\n",
       "   FREQ_4000_G_UCL  FREQ_8000_D_THR  FREQ_8000_G_THR  FREQ_8000_D_UCL  \\\n",
       "0              110              NaN              NaN              NaN   \n",
       "1              120             60.0             60.0              NaN   \n",
       "2              115            105.0            105.0              NaN   \n",
       "3              100             40.0             35.0             90.0   \n",
       "4               94             90.0             95.0              NaN   \n",
       "\n",
       "   FREQ_8000_G_UCL  \n",
       "0              NaN  \n",
       "1              NaN  \n",
       "2              NaN  \n",
       "3             85.0  \n",
       "4              NaN  \n",
       "\n",
       "[5 rows x 31 columns]"
      ]
     },
     "metadata": {},
     "output_type": "display_data"
    },
    {
     "data": {
      "text/html": [
       "<div>\n",
       "<style scoped>\n",
       "    .dataframe tbody tr th:only-of-type {\n",
       "        vertical-align: middle;\n",
       "    }\n",
       "\n",
       "    .dataframe tbody tr th {\n",
       "        vertical-align: top;\n",
       "    }\n",
       "\n",
       "    .dataframe thead th {\n",
       "        text-align: right;\n",
       "    }\n",
       "</style>\n",
       "<table border=\"1\" class=\"dataframe\">\n",
       "  <thead>\n",
       "    <tr style=\"text-align: right;\">\n",
       "      <th></th>\n",
       "      <th>ID_CLIENT</th>\n",
       "      <th>ANTECEDENT_FAMILIAUX</th>\n",
       "      <th>ACOUPHENES</th>\n",
       "      <th>DIABETE</th>\n",
       "      <th>EXPOSITION</th>\n",
       "      <th>AGE</th>\n",
       "      <th>SEXE</th>\n",
       "      <th>FREQ_250_D_THR</th>\n",
       "      <th>FREQ_250_G_THR</th>\n",
       "      <th>FREQ_250_D_UCL</th>\n",
       "      <th>...</th>\n",
       "      <th>FREQ_2000_D_UCL</th>\n",
       "      <th>FREQ_2000_G_UCL</th>\n",
       "      <th>FREQ_4000_D_THR</th>\n",
       "      <th>FREQ_4000_G_THR</th>\n",
       "      <th>FREQ_4000_D_UCL</th>\n",
       "      <th>FREQ_4000_G_UCL</th>\n",
       "      <th>FREQ_8000_D_THR</th>\n",
       "      <th>FREQ_8000_G_THR</th>\n",
       "      <th>FREQ_8000_D_UCL</th>\n",
       "      <th>FREQ_8000_G_UCL</th>\n",
       "    </tr>\n",
       "  </thead>\n",
       "  <tbody>\n",
       "    <tr>\n",
       "      <th>62270</th>\n",
       "      <td>A7406761</td>\n",
       "      <td>1.0</td>\n",
       "      <td>0</td>\n",
       "      <td>0.0</td>\n",
       "      <td>0.0</td>\n",
       "      <td>85.0</td>\n",
       "      <td>0.0</td>\n",
       "      <td>40.0</td>\n",
       "      <td>50.0</td>\n",
       "      <td>75.0</td>\n",
       "      <td>...</td>\n",
       "      <td>85</td>\n",
       "      <td>85</td>\n",
       "      <td>65</td>\n",
       "      <td>55</td>\n",
       "      <td>95</td>\n",
       "      <td>90</td>\n",
       "      <td>50.0</td>\n",
       "      <td>60.0</td>\n",
       "      <td>85.0</td>\n",
       "      <td>95.0</td>\n",
       "    </tr>\n",
       "    <tr>\n",
       "      <th>62271</th>\n",
       "      <td>A7406762</td>\n",
       "      <td>1.0</td>\n",
       "      <td>1</td>\n",
       "      <td>0.0</td>\n",
       "      <td>1.0</td>\n",
       "      <td>84.0</td>\n",
       "      <td>1.0</td>\n",
       "      <td>35.0</td>\n",
       "      <td>30.0</td>\n",
       "      <td>90.0</td>\n",
       "      <td>...</td>\n",
       "      <td>110</td>\n",
       "      <td>115</td>\n",
       "      <td>105</td>\n",
       "      <td>110</td>\n",
       "      <td>0</td>\n",
       "      <td>0</td>\n",
       "      <td>95.0</td>\n",
       "      <td>95.0</td>\n",
       "      <td>NaN</td>\n",
       "      <td>NaN</td>\n",
       "    </tr>\n",
       "    <tr>\n",
       "      <th>62272</th>\n",
       "      <td>A7406764</td>\n",
       "      <td>1.0</td>\n",
       "      <td>0</td>\n",
       "      <td>1.0</td>\n",
       "      <td>1.0</td>\n",
       "      <td>74.0</td>\n",
       "      <td>1.0</td>\n",
       "      <td>20.0</td>\n",
       "      <td>35.0</td>\n",
       "      <td>80.0</td>\n",
       "      <td>...</td>\n",
       "      <td>105</td>\n",
       "      <td>100</td>\n",
       "      <td>85</td>\n",
       "      <td>80</td>\n",
       "      <td>110</td>\n",
       "      <td>105</td>\n",
       "      <td>65.0</td>\n",
       "      <td>70.0</td>\n",
       "      <td>95.0</td>\n",
       "      <td>95.0</td>\n",
       "    </tr>\n",
       "    <tr>\n",
       "      <th>62273</th>\n",
       "      <td>A7406796</td>\n",
       "      <td>0.0</td>\n",
       "      <td>1</td>\n",
       "      <td>1.0</td>\n",
       "      <td>1.0</td>\n",
       "      <td>74.0</td>\n",
       "      <td>1.0</td>\n",
       "      <td>70.0</td>\n",
       "      <td>55.0</td>\n",
       "      <td>100.0</td>\n",
       "      <td>...</td>\n",
       "      <td>95</td>\n",
       "      <td>85</td>\n",
       "      <td>85</td>\n",
       "      <td>90</td>\n",
       "      <td>100</td>\n",
       "      <td>110</td>\n",
       "      <td>90.0</td>\n",
       "      <td>95.0</td>\n",
       "      <td>NaN</td>\n",
       "      <td>NaN</td>\n",
       "    </tr>\n",
       "    <tr>\n",
       "      <th>62274</th>\n",
       "      <td>DUMFR663</td>\n",
       "      <td>0.0</td>\n",
       "      <td>1</td>\n",
       "      <td>1.0</td>\n",
       "      <td>0.0</td>\n",
       "      <td>71.0</td>\n",
       "      <td>1.0</td>\n",
       "      <td>15.0</td>\n",
       "      <td>45.0</td>\n",
       "      <td>NaN</td>\n",
       "      <td>...</td>\n",
       "      <td>100</td>\n",
       "      <td>110</td>\n",
       "      <td>55</td>\n",
       "      <td>85</td>\n",
       "      <td>105</td>\n",
       "      <td>120</td>\n",
       "      <td>80.0</td>\n",
       "      <td>90.0</td>\n",
       "      <td>NaN</td>\n",
       "      <td>NaN</td>\n",
       "    </tr>\n",
       "  </tbody>\n",
       "</table>\n",
       "<p>5 rows × 31 columns</p>\n",
       "</div>"
      ],
      "text/plain": [
       "      ID_CLIENT  ANTECEDENT_FAMILIAUX  ACOUPHENES  DIABETE  EXPOSITION   AGE  \\\n",
       "62270  A7406761                   1.0           0      0.0         0.0  85.0   \n",
       "62271  A7406762                   1.0           1      0.0         1.0  84.0   \n",
       "62272  A7406764                   1.0           0      1.0         1.0  74.0   \n",
       "62273  A7406796                   0.0           1      1.0         1.0  74.0   \n",
       "62274  DUMFR663                   0.0           1      1.0         0.0  71.0   \n",
       "\n",
       "       SEXE  FREQ_250_D_THR  FREQ_250_G_THR  FREQ_250_D_UCL  ...  \\\n",
       "62270   0.0            40.0            50.0            75.0  ...   \n",
       "62271   1.0            35.0            30.0            90.0  ...   \n",
       "62272   1.0            20.0            35.0            80.0  ...   \n",
       "62273   1.0            70.0            55.0           100.0  ...   \n",
       "62274   1.0            15.0            45.0             NaN  ...   \n",
       "\n",
       "       FREQ_2000_D_UCL  FREQ_2000_G_UCL  FREQ_4000_D_THR  FREQ_4000_G_THR  \\\n",
       "62270               85               85               65               55   \n",
       "62271              110              115              105              110   \n",
       "62272              105              100               85               80   \n",
       "62273               95               85               85               90   \n",
       "62274              100              110               55               85   \n",
       "\n",
       "       FREQ_4000_D_UCL  FREQ_4000_G_UCL  FREQ_8000_D_THR  FREQ_8000_G_THR  \\\n",
       "62270               95               90             50.0             60.0   \n",
       "62271                0                0             95.0             95.0   \n",
       "62272              110              105             65.0             70.0   \n",
       "62273              100              110             90.0             95.0   \n",
       "62274              105              120             80.0             90.0   \n",
       "\n",
       "       FREQ_8000_D_UCL  FREQ_8000_G_UCL  \n",
       "62270             85.0             95.0  \n",
       "62271              NaN              NaN  \n",
       "62272             95.0             95.0  \n",
       "62273              NaN              NaN  \n",
       "62274              NaN              NaN  \n",
       "\n",
       "[5 rows x 31 columns]"
      ]
     },
     "metadata": {},
     "output_type": "display_data"
    }
   ],
   "source": [
    "data[\"ACOUPHENES\"]=data[\"ACOUPHENES\"].map({\"Oui\":1,\"Non\":0})\n",
    "data[\"ANTECEDENT_FAMILIAUX\"]=data[\"ANTECEDENT_FAMILIAUX\"].map({\"Oui\":1,\"Non\":0})\n",
    "data[\"DIABETE\"]=data[\"DIABETE\"].map({\"Oui\":1,\"Non\":0})\n",
    "data[\"EXPOSITION\"]=data[\"EXPOSITION\"].map({\"Oui\":1,\"Non\":0})\n",
    "data[\"SEXE\"]=data[\"SEXE\"].map({\"H\":1,\"F\":0})\n",
    "\n",
    "display(data.head(5))\n",
    "display(data.tail(5))"
   ]
  },
  {
   "cell_type": "code",
   "execution_count": 21,
   "id": "e9a33e67",
   "metadata": {},
   "outputs": [
    {
     "name": "stdout",
     "output_type": "stream",
     "text": [
      "<class 'pandas.core.frame.DataFrame'>\n",
      "RangeIndex: 62275 entries, 0 to 62274\n",
      "Data columns (total 31 columns):\n",
      " #   Column                Non-Null Count  Dtype  \n",
      "---  ------                --------------  -----  \n",
      " 0   ID_CLIENT             62275 non-null  object \n",
      " 1   ANTECEDENT_FAMILIAUX  59620 non-null  float64\n",
      " 2   ACOUPHENES            62275 non-null  int64  \n",
      " 3   DIABETE               59741 non-null  float64\n",
      " 4   EXPOSITION            60812 non-null  float64\n",
      " 5   AGE                   62275 non-null  float64\n",
      " 6   SEXE                  62256 non-null  float64\n",
      " 7   FREQ_250_D_THR        62142 non-null  float64\n",
      " 8   FREQ_250_G_THR        62121 non-null  float64\n",
      " 9   FREQ_250_D_UCL        40699 non-null  float64\n",
      " 10  FREQ_250_G_UCL        40582 non-null  float64\n",
      " 11  FREQ_500_D_THR        62275 non-null  int64  \n",
      " 12  FREQ_500_G_THR        62275 non-null  int64  \n",
      " 13  FREQ_500_D_UCL        62275 non-null  int64  \n",
      " 14  FREQ_500_G_UCL        62275 non-null  int64  \n",
      " 15  FREQ_1000_D_THR       62275 non-null  int64  \n",
      " 16  FREQ_1000_G_THR       62275 non-null  int64  \n",
      " 17  FREQ_1000_D_UCL       62275 non-null  int64  \n",
      " 18  FREQ_1000_G_UCL       62275 non-null  int64  \n",
      " 19  FREQ_2000_D_THR       62275 non-null  int64  \n",
      " 20  FREQ_2000_G_THR       62275 non-null  int64  \n",
      " 21  FREQ_2000_D_UCL       62275 non-null  int64  \n",
      " 22  FREQ_2000_G_UCL       62275 non-null  int64  \n",
      " 23  FREQ_4000_D_THR       62275 non-null  int64  \n",
      " 24  FREQ_4000_G_THR       62275 non-null  int64  \n",
      " 25  FREQ_4000_D_UCL       62275 non-null  int64  \n",
      " 26  FREQ_4000_G_UCL       62275 non-null  int64  \n",
      " 27  FREQ_8000_D_THR       59028 non-null  float64\n",
      " 28  FREQ_8000_G_THR       59096 non-null  float64\n",
      " 29  FREQ_8000_D_UCL       16912 non-null  float64\n",
      " 30  FREQ_8000_G_UCL       16883 non-null  float64\n",
      "dtypes: float64(13), int64(17), object(1)\n",
      "memory usage: 14.7+ MB\n"
     ]
    }
   ],
   "source": [
    "data.info()"
   ]
  },
  {
   "cell_type": "markdown",
   "id": "a6de4dd9",
   "metadata": {},
   "source": [
    "# feature engineering: asymetrie et pente"
   ]
  },
  {
   "cell_type": "code",
   "execution_count": 22,
   "id": "6fbd00ba",
   "metadata": {},
   "outputs": [],
   "source": [
    "#****************************************************************Asymetrie*****************************************************************************\n",
    "# pour THR\n",
    "data['diff_250_THR']= abs(data['FREQ_250_D_THR']-data['FREQ_250_G_THR'])\n",
    "data['diff_500_THR']= abs(data['FREQ_500_D_THR']-data['FREQ_500_G_THR'])\n",
    "data['diff_1000_THR']= abs(data['FREQ_1000_D_THR']-data['FREQ_1000_G_THR'])\n",
    "data['diff_2000_THR']= abs(data['FREQ_2000_D_THR']-data['FREQ_2000_G_THR'])\n",
    "data['diff_4000_THR']= abs(data['FREQ_4000_D_THR']-data['FREQ_4000_G_THR'])\n",
    "data['diff_8000_THR']= abs(data['FREQ_8000_D_THR']-data['FREQ_8000_G_THR'])\n",
    "\n",
    "\n",
    "# pour UCL\n",
    "data['diff_250_UCL']= abs(data['FREQ_250_D_UCL']-data['FREQ_250_G_UCL'])\n",
    "data['diff_500_UCL']= abs(data['FREQ_500_D_UCL']-data['FREQ_500_G_UCL'])\n",
    "data['diff_1000_UCL']= abs(data['FREQ_1000_D_UCL']-data['FREQ_1000_G_UCL'])\n",
    "data['diff_2000_UCL']= abs(data['FREQ_2000_D_UCL']-data['FREQ_2000_G_UCL'])\n",
    "data['diff_4000_UCL']= abs(data['FREQ_500_D_UCL']-data['FREQ_500_G_UCL'])\n",
    "data['diff_8000_UCL']= abs(data['FREQ_8000_D_UCL']-data['FREQ_8000_G_UCL'])\n",
    "\n",
    "# ************************************************************************* Pente *******************************************************************************\n",
    "\n",
    "# pour THR\n",
    "data[\"slope_THR_droite\"] = data[\"FREQ_4000_D_THR\"] - data[\"FREQ_500_D_THR\"]\n",
    "data[\"slope_THR_gauche\"] = data[\"FREQ_4000_G_THR\"] - data[\"FREQ_500_G_THR\"]\n",
    "data[\"slope_THR_moyenne\"] = (data[\"slope_THR_droite\"] + data[\"slope_THR_gauche\"]) / 2\n",
    "\n",
    "# pour UCL\n",
    "\n",
    "data[\"slope_UCL_droite\"] = data[\"FREQ_4000_D_UCL\"] - data[\"FREQ_500_D_UCL\"]\n",
    "data[\"slope_UCL_gauche\"] = data[\"FREQ_4000_G_UCL\"] - data[\"FREQ_500_G_UCL\"]\n",
    "data[\"slope_UCL_moyenne\"] = (data[\"slope_UCL_droite\"] + data[\"slope_UCL_gauche\"]) / 2\n",
    "\n"
   ]
  },
  {
   "cell_type": "markdown",
   "id": "b16b2e4d",
   "metadata": {},
   "source": [
    "Analyse des tests THR"
   ]
  },
  {
   "cell_type": "code",
   "execution_count": 23,
   "id": "1a4b9d8a",
   "metadata": {},
   "outputs": [
    {
     "data": {
      "text/plain": [
       "ID_CLIENT               0\n",
       "ANTECEDENT_FAMILIAUX    0\n",
       "ACOUPHENES              0\n",
       "DIABETE                 0\n",
       "EXPOSITION              0\n",
       "AGE                     0\n",
       "SEXE                    0\n",
       "FREQ_250_D_THR          0\n",
       "FREQ_250_G_THR          0\n",
       "FREQ_500_D_THR          0\n",
       "FREQ_500_G_THR          0\n",
       "FREQ_1000_D_THR         0\n",
       "FREQ_1000_G_THR         0\n",
       "FREQ_2000_D_THR         0\n",
       "FREQ_2000_G_THR         0\n",
       "FREQ_4000_D_THR         0\n",
       "FREQ_4000_G_THR         0\n",
       "FREQ_8000_D_THR         0\n",
       "FREQ_8000_G_THR         0\n",
       "diff_250_THR            0\n",
       "diff_500_THR            0\n",
       "diff_1000_THR           0\n",
       "diff_2000_THR           0\n",
       "diff_4000_THR           0\n",
       "diff_8000_THR           0\n",
       "slope_THR_droite        0\n",
       "slope_THR_gauche        0\n",
       "slope_THR_moyenne       0\n",
       "dtype: int64"
      ]
     },
     "metadata": {},
     "output_type": "display_data"
    },
    {
     "data": {
      "text/plain": [
       "54441"
      ]
     },
     "metadata": {},
     "output_type": "display_data"
    }
   ],
   "source": [
    "data_THR = data.drop(columns=data.columns[data.columns.str.contains(\"UCL\")])\n",
    "data_THR=data_THR.dropna()\n",
    "display(data_THR.isna().sum())\n",
    "display(len(data_THR))"
   ]
  },
  {
   "cell_type": "markdown",
   "id": "0887e65b",
   "metadata": {},
   "source": [
    "# standardisons les données pour qu'elles aient la même échelle"
   ]
  },
  {
   "cell_type": "code",
   "execution_count": 24,
   "id": "3acf5672",
   "metadata": {},
   "outputs": [],
   "source": [
    "from sklearn.decomposition import PCA\n",
    "from sklearn.preprocessing import StandardScaler\n",
    "\n",
    "\n",
    "X,Y = data_THR.select_dtypes(include=\"number\").drop(columns=\"ACOUPHENES\"), data_THR[\"ACOUPHENES\"]\n",
    "\n",
    "scalar = StandardScaler()\n",
    "X = scalar.fit_transform(X)"
   ]
  },
  {
   "cell_type": "markdown",
   "id": "77cf7293",
   "metadata": {},
   "source": [
    "# cross validation random forest"
   ]
  },
  {
   "cell_type": "code",
   "execution_count": 25,
   "id": "32f15f9c",
   "metadata": {},
   "outputs": [
    {
     "name": "stderr",
     "output_type": "stream",
     "text": [
      "[codecarbon INFO @ 10:17:35] Energy consumed for RAM : 0.000025 kWh. RAM Power : 5.898098945617677 W\n",
      "[codecarbon INFO @ 10:17:35] Energy consumed for all CPUs : 0.000177 kWh. Total CPU Power : 42.5 W\n",
      "[codecarbon INFO @ 10:17:35] 0.000202 kWh of electricity used since the beginning.\n",
      "[codecarbon INFO @ 10:17:50] Energy consumed for RAM : 0.000049 kWh. RAM Power : 5.898098945617677 W\n",
      "[codecarbon INFO @ 10:17:50] Energy consumed for all CPUs : 0.000355 kWh. Total CPU Power : 42.5 W\n",
      "[codecarbon INFO @ 10:17:50] 0.000404 kWh of electricity used since the beginning.\n",
      "[codecarbon INFO @ 10:18:05] Energy consumed for RAM : 0.000074 kWh. RAM Power : 5.898098945617677 W\n",
      "[codecarbon INFO @ 10:18:05] Energy consumed for all CPUs : 0.000532 kWh. Total CPU Power : 42.5 W\n",
      "[codecarbon INFO @ 10:18:05] 0.000606 kWh of electricity used since the beginning.\n",
      "[codecarbon INFO @ 10:18:20] Energy consumed for RAM : 0.000098 kWh. RAM Power : 5.898098945617677 W\n",
      "[codecarbon INFO @ 10:18:20] Energy consumed for all CPUs : 0.000709 kWh. Total CPU Power : 42.5 W\n",
      "[codecarbon INFO @ 10:18:20] 0.000807 kWh of electricity used since the beginning.\n"
     ]
    },
    {
     "name": "stdout",
     "output_type": "stream",
     "text": [
      "              precision  recall  f1-score    support\n",
      "0                 0.590   0.700     0.640  29550.000\n",
      "1                 0.542   0.422     0.475  24891.000\n",
      "accuracy          0.573   0.573     0.573      0.573\n",
      "macro avg         0.566   0.561     0.557  54441.000\n",
      "weighted avg      0.568   0.573     0.565  54441.000\n"
     ]
    }
   ],
   "source": [
    "\n",
    "# modèle\n",
    "\n",
    "clf = RandomForestClassifier(random_state=42)\n",
    "\n",
    "\n",
    "Y_pred = cross_val_predict(clf, X,Y,cv=5)\n",
    "\n",
    "# Génère les résultats dans un dictionnaire\n",
    "report = classification_report(Y, Y_pred, output_dict=True)\n",
    "\n",
    "# Transforme le dictionnaire en DataFrame lisible\n",
    "df_report = pd.DataFrame(report).T  # .T = transpose, pour lignes = classes\n",
    "\n",
    "# Affiche correctement le tableau\n",
    "print(df_report.round(3))"
   ]
  },
  {
   "cell_type": "markdown",
   "id": "9ef34ed9",
   "metadata": {},
   "source": [
    "Le modèle Random Forest présente une performance globalement moyenne (accuracy = 57,3 %), avec un fort déséquilibre entre les deux classes : il détecte assez bien les individus sans acouphènes (rappel = 70 %, F1 = 0.64), mais peine à identifier correctement ceux avec acouphènes (rappel = 42 %, F1 = 0.475). Cela montre que le modèle a tendance à prédire majoritairement l'absence d’acouphènes"
   ]
  },
  {
   "cell_type": "markdown",
   "id": "bc996733",
   "metadata": {},
   "source": [
    "# cross validation pour la regression logistique"
   ]
  },
  {
   "cell_type": "code",
   "execution_count": 26,
   "id": "a8dc169f",
   "metadata": {},
   "outputs": [
    {
     "name": "stdout",
     "output_type": "stream",
     "text": [
      "              precision  recall  f1-score    support\n",
      "0                 0.596   0.738     0.659  29550.000\n",
      "1                 0.566   0.405     0.472  24891.000\n",
      "accuracy          0.586   0.586     0.586      0.586\n",
      "macro avg         0.581   0.572     0.566  54441.000\n",
      "weighted avg      0.582   0.586     0.574  54441.000\n"
     ]
    },
    {
     "name": "stderr",
     "output_type": "stream",
     "text": [
      "C:\\Users\\wendy\\AppData\\Local\\Temp\\ipykernel_28240\\1713812531.py:22: UserWarning: Glyph 129513 (\\N{JIGSAW PUZZLE PIECE}) missing from font(s) DejaVu Sans.\n",
      "  plt.tight_layout()\n",
      "c:\\Users\\wendy\\miniconda3\\Lib\\site-packages\\IPython\\core\\pylabtools.py:170: UserWarning: Glyph 129513 (\\N{JIGSAW PUZZLE PIECE}) missing from font(s) DejaVu Sans.\n",
      "  fig.canvas.print_figure(bytes_io, **kw)\n"
     ]
    },
    {
     "data": {
      "image/png": "[encoded data removed]",
      "text/plain": [
       "<Figure size 500x400 with 2 Axes>"
      ]
     },
     "metadata": {},
     "output_type": "display_data"
    }
   ],
   "source": [
    "from sklearn.linear_model import LogisticRegression\n",
    "from sklearn.metrics import confusion_matrix, classification_report,make_scorer, precision_score, recall_score, f1_score, accuracy_score\n",
    "\n",
    "logis = LogisticRegression()\n",
    "Y_predLogis = cross_val_predict(logis, X,Y,cv=5)\n",
    "\n",
    "# Génère les résultats dans un dictionnaire\n",
    "report = classification_report(Y, Y_predLogis, output_dict=True)\n",
    "\n",
    "# Transforme le dictionnaire en DataFrame lisible\n",
    "df_report = pd.DataFrame(report).T  # .T = transpose, pour lignes = classes\n",
    "\n",
    "# Affiche correctement le tableau\n",
    "print(df_report.round(3))\n",
    "\n",
    "cm = confusion_matrix(Y, Y_predLogis)\n",
    "plt.figure(figsize=(5, 4))\n",
    "sns.heatmap(cm, annot=True, fmt=\"d\", cmap=\"Blues\")\n",
    "plt.xlabel(\"Prédiction\")\n",
    "plt.ylabel(\"Vraie classe\")\n",
    "plt.title(\"🧩 Matrice de confusion\")\n",
    "plt.tight_layout()\n",
    "plt.show()\n",
    "\n"
   ]
  },
  {
   "cell_type": "markdown",
   "id": "79df73ff",
   "metadata": {},
   "source": [
    "Le modèle de régression logistique atteint une accuracy globale de 58,6 %, soit légèrement meilleure que celle du Random Forest, mais présente le même déséquilibre de performance entre les classes. Il identifie bien les individus sans acouphènes (rappel = 73,8 %, F1 = 0.659), mais a des difficultés notables à détecter ceux avec acouphènes, avec un rappel très faible (40,5 %) et un F1-score de 0.472. Ce résultat confirme que le modèle penche fortement vers la classe majoritaire et reste peu fiable pour la classe cliniquement intéressante. Malgré une précision un peu meilleure que le Random Forest sur la classe 1, la régression logistique ne parvient pas non plus à corriger le biais de classification"
   ]
  },
  {
   "cell_type": "markdown",
   "id": "b8c7042c",
   "metadata": {},
   "source": [
    "# Ajout de features : fréquence de coupure"
   ]
  },
  {
   "cell_type": "markdown",
   "id": "c73b83f7",
   "metadata": {},
   "source": [
    "La fréquence de courbure correspond à la première fréquence (dans l’ordre croissant) à partir de laquelle la pente de l’audiogramme devient anormalement raide.\n",
    "\n",
    "Concrètement, nous calculons la pente entre chaque paire de fréquences adjacentes (en dB/octave).\n",
    "Une pente est considérée comme anormalement raide si elle dépasse 15 dB/octave."
   ]
  },
  {
   "cell_type": "code",
   "execution_count": 27,
   "id": "c5339de4",
   "metadata": {},
   "outputs": [],
   "source": [
    "\n",
    "freq_cols_d = ['FREQ_250_D_THR', 'FREQ_500_D_THR', 'FREQ_1000_D_THR', \n",
    "                   'FREQ_2000_D_THR', 'FREQ_4000_D_THR', 'FREQ_8000_D_THR']\n",
    "freq_cols_g = ['FREQ_250_G_THR', 'FREQ_500_G_THR', 'FREQ_1000_G_THR', \n",
    "                   'FREQ_2000_G_THR', 'FREQ_4000_G_THR', 'FREQ_8000_G_THR']\n",
    "    \n",
    "frequencies = [250, 500, 1000, 2000, 4000, 8000]\n",
    "\n",
    "\n",
    "def find_cutoff_frequency(row, ear_cols):\n",
    "        \"\"\"Trouve la fréquence de coupure basée sur la pente anormale\"\"\"\n",
    "        thresholds = [row[col] for col in ear_cols]\n",
    "        \n",
    "        # Chercher la première pente > 15 dB/octave (anormale)\n",
    "        for i in range(len(thresholds) - 1):\n",
    "            # Calcul de la pente entre deux fréquences adjacentes\n",
    "            freq_ratio = frequencies[i+1] / frequencies[i]  # ratio d'octave\n",
    "            octaves = np.log2(freq_ratio)\n",
    "            slope = (thresholds[i+1] - thresholds[i]) / octaves\n",
    "            \n",
    "            if slope > 15:  # Pente anormalement raide\n",
    "                return frequencies[i]\n",
    "        \n",
    "        return 8000  # Si pas de pente anormale détectée"
   ]
  },
  {
   "cell_type": "code",
   "execution_count": 28,
   "id": "ca42d3b5",
   "metadata": {},
   "outputs": [
    {
     "name": "stderr",
     "output_type": "stream",
     "text": [
      "[codecarbon INFO @ 10:18:36] Energy consumed for RAM : 0.000123 kWh. RAM Power : 5.898098945617677 W\n",
      "[codecarbon INFO @ 10:18:36] Energy consumed for all CPUs : 0.000887 kWh. Total CPU Power : 42.5 W\n",
      "[codecarbon INFO @ 10:18:36] 0.001010 kWh of electricity used since the beginning.\n"
     ]
    }
   ],
   "source": [
    "# application de la fonction: \n",
    "data_THR['cutoff_freq_droite'] = data_THR.apply(\n",
    "        lambda row: find_cutoff_frequency(row, freq_cols_d), axis=1)\n",
    "data_THR['cutoff_freq_gauche'] = data_THR.apply(\n",
    "        lambda row: find_cutoff_frequency(row, freq_cols_g), axis=1)\n",
    "data_THR['cutoff_freq_asymmetry'] = abs(\n",
    "data_THR['cutoff_freq_droite'] - data_THR['cutoff_freq_gauche'])"
   ]
  },
  {
   "cell_type": "code",
   "execution_count": 29,
   "id": "b087f910",
   "metadata": {},
   "outputs": [
    {
     "name": "stdout",
     "output_type": "stream",
     "text": [
      "<class 'pandas.core.frame.DataFrame'>\n",
      "Index: 54441 entries, 1 to 62274\n",
      "Data columns (total 31 columns):\n",
      " #   Column                 Non-Null Count  Dtype  \n",
      "---  ------                 --------------  -----  \n",
      " 0   ID_CLIENT              54441 non-null  object \n",
      " 1   ANTECEDENT_FAMILIAUX   54441 non-null  float64\n",
      " 2   ACOUPHENES             54441 non-null  int64  \n",
      " 3   DIABETE                54441 non-null  float64\n",
      " 4   EXPOSITION             54441 non-null  float64\n",
      " 5   AGE                    54441 non-null  float64\n",
      " 6   SEXE                   54441 non-null  float64\n",
      " 7   FREQ_250_D_THR         54441 non-null  float64\n",
      " 8   FREQ_250_G_THR         54441 non-null  float64\n",
      " 9   FREQ_500_D_THR         54441 non-null  int64  \n",
      " 10  FREQ_500_G_THR         54441 non-null  int64  \n",
      " 11  FREQ_1000_D_THR        54441 non-null  int64  \n",
      " 12  FREQ_1000_G_THR        54441 non-null  int64  \n",
      " 13  FREQ_2000_D_THR        54441 non-null  int64  \n",
      " 14  FREQ_2000_G_THR        54441 non-null  int64  \n",
      " 15  FREQ_4000_D_THR        54441 non-null  int64  \n",
      " 16  FREQ_4000_G_THR        54441 non-null  int64  \n",
      " 17  FREQ_8000_D_THR        54441 non-null  float64\n",
      " 18  FREQ_8000_G_THR        54441 non-null  float64\n",
      " 19  diff_250_THR           54441 non-null  float64\n",
      " 20  diff_500_THR           54441 non-null  int64  \n",
      " 21  diff_1000_THR          54441 non-null  int64  \n",
      " 22  diff_2000_THR          54441 non-null  int64  \n",
      " 23  diff_4000_THR          54441 non-null  int64  \n",
      " 24  diff_8000_THR          54441 non-null  float64\n",
      " 25  slope_THR_droite       54441 non-null  int64  \n",
      " 26  slope_THR_gauche       54441 non-null  int64  \n",
      " 27  slope_THR_moyenne      54441 non-null  float64\n",
      " 28  cutoff_freq_droite     54441 non-null  int64  \n",
      " 29  cutoff_freq_gauche     54441 non-null  int64  \n",
      " 30  cutoff_freq_asymmetry  54441 non-null  int64  \n",
      "dtypes: float64(12), int64(18), object(1)\n",
      "memory usage: 13.3+ MB\n"
     ]
    }
   ],
   "source": [
    "data_THR.columns\n",
    "data_THR.info()"
   ]
  },
  {
   "cell_type": "markdown",
   "id": "a83ec675",
   "metadata": {},
   "source": [
    "# cross validation avec l'ajout de la fréquence de coupure"
   ]
  },
  {
   "cell_type": "code",
   "execution_count": 30,
   "id": "327a1462",
   "metadata": {},
   "outputs": [],
   "source": [
    "X_new,Y_new = data_THR.select_dtypes(include=\"number\").drop(columns=\"ACOUPHENES\"), data_THR[\"ACOUPHENES\"]\n",
    "\n",
    "scalar = StandardScaler()\n",
    "X_new = scalar.fit_transform(X_new)"
   ]
  },
  {
   "cell_type": "code",
   "execution_count": 31,
   "id": "ecf2758e",
   "metadata": {},
   "outputs": [
    {
     "name": "stderr",
     "output_type": "stream",
     "text": [
      "[codecarbon INFO @ 10:18:51] Energy consumed for RAM : 0.000147 kWh. RAM Power : 5.898098945617677 W\n",
      "[codecarbon INFO @ 10:18:51] Energy consumed for all CPUs : 0.001063 kWh. Total CPU Power : 42.5 W\n",
      "[codecarbon INFO @ 10:18:51] 0.001210 kWh of electricity used since the beginning.\n",
      "[codecarbon INFO @ 10:19:06] Energy consumed for RAM : 0.000172 kWh. RAM Power : 5.898098945617677 W\n",
      "[codecarbon INFO @ 10:19:06] Energy consumed for all CPUs : 0.001240 kWh. Total CPU Power : 42.5 W\n",
      "[codecarbon INFO @ 10:19:06] 0.001412 kWh of electricity used since the beginning.\n",
      "[codecarbon INFO @ 10:19:21] Energy consumed for RAM : 0.000196 kWh. RAM Power : 5.898098945617677 W\n",
      "[codecarbon INFO @ 10:19:21] Energy consumed for all CPUs : 0.001417 kWh. Total CPU Power : 42.5 W\n",
      "[codecarbon INFO @ 10:19:21] 0.001614 kWh of electricity used since the beginning.\n",
      "[codecarbon INFO @ 10:19:21] 0.000753 g.CO2eq/s mean an estimation of 23.734550412512178 kg.CO2eq/year\n",
      "[codecarbon INFO @ 10:19:36] Energy consumed for RAM : 0.000221 kWh. RAM Power : 5.898098945617677 W\n",
      "[codecarbon INFO @ 10:19:36] Energy consumed for all CPUs : 0.001595 kWh. Total CPU Power : 42.5 W\n",
      "[codecarbon INFO @ 10:19:36] 0.001815 kWh of electricity used since the beginning.\n",
      "[codecarbon INFO @ 10:19:51] Energy consumed for RAM : 0.000245 kWh. RAM Power : 5.898098945617677 W\n",
      "[codecarbon INFO @ 10:19:51] Energy consumed for all CPUs : 0.001772 kWh. Total CPU Power : 42.5 W\n",
      "[codecarbon INFO @ 10:19:51] 0.002017 kWh of electricity used since the beginning.\n",
      "[codecarbon INFO @ 10:20:06] Energy consumed for RAM : 0.000270 kWh. RAM Power : 5.898098945617677 W\n",
      "[codecarbon INFO @ 10:20:06] Energy consumed for all CPUs : 0.001949 kWh. Total CPU Power : 42.5 W\n",
      "[codecarbon INFO @ 10:20:06] 0.002219 kWh of electricity used since the beginning.\n",
      "[codecarbon INFO @ 10:20:21] Energy consumed for RAM : 0.000294 kWh. RAM Power : 5.898098945617677 W\n",
      "[codecarbon INFO @ 10:20:21] Energy consumed for all CPUs : 0.002126 kWh. Total CPU Power : 42.5 W\n",
      "[codecarbon INFO @ 10:20:21] 0.002421 kWh of electricity used since the beginning.\n"
     ]
    },
    {
     "name": "stdout",
     "output_type": "stream",
     "text": [
      "              precision  recall  f1-score    support\n",
      "0                 0.589   0.704     0.641  29550.000\n",
      "1                 0.542   0.416     0.471  24891.000\n",
      "accuracy          0.572   0.572     0.572      0.572\n",
      "macro avg         0.565   0.560     0.556  54441.000\n",
      "weighted avg      0.567   0.572     0.563  54441.000\n"
     ]
    }
   ],
   "source": [
    "\n",
    "# modèle\n",
    "clf = RandomForestClassifier(random_state=42)\n",
    "\n",
    "\n",
    "Y_pred = cross_val_predict(clf, X_new,Y_new,cv=5)\n",
    "\n",
    "# Génère les résultats dans un dictionnaire\n",
    "report = classification_report(Y, Y_pred, output_dict=True)\n",
    "\n",
    "# Transforme le dictionnaire en DataFrame lisible\n",
    "df_report = pd.DataFrame(report).T  # .T = transpose, pour lignes = classes\n",
    "\n",
    "\n",
    "# Affiche correctement le tableau\n",
    "print(df_report.round(3))"
   ]
  },
  {
   "cell_type": "markdown",
   "id": "8ecd8dca",
   "metadata": {},
   "source": [
    "Malgré l’ajout de la fréquence de courbure comme variable explicative, les performances du modèle Random Forest sont restées inchangées.\n",
    "Cela suggère que cette caractéristique, bien qu’intuitivement pertinente sur le plan audiologique, n’apporte pas de gain discriminant significatif dans le cadre de notre classification actuelle (présence ou absence d’acouphènes)."
   ]
  },
  {
   "cell_type": "code",
   "execution_count": 32,
   "id": "c3e390eb",
   "metadata": {},
   "outputs": [
    {
     "name": "stdout",
     "output_type": "stream",
     "text": [
      "              precision  recall  f1-score    support\n",
      "0                 0.596   0.738     0.659  29550.000\n",
      "1                 0.566   0.405     0.472  24891.000\n",
      "accuracy          0.586   0.586     0.586      0.586\n",
      "macro avg         0.581   0.572     0.566  54441.000\n",
      "weighted avg      0.582   0.586     0.574  54441.000\n"
     ]
    },
    {
     "name": "stderr",
     "output_type": "stream",
     "text": [
      "C:\\Users\\wendy\\AppData\\Local\\Temp\\ipykernel_28240\\1683617273.py:22: UserWarning: Glyph 129513 (\\N{JIGSAW PUZZLE PIECE}) missing from font(s) DejaVu Sans.\n",
      "  plt.tight_layout()\n",
      "c:\\Users\\wendy\\miniconda3\\Lib\\site-packages\\IPython\\core\\pylabtools.py:170: UserWarning: Glyph 129513 (\\N{JIGSAW PUZZLE PIECE}) missing from font(s) DejaVu Sans.\n",
      "  fig.canvas.print_figure(bytes_io, **kw)\n"
     ]
    },
    {
     "data": {
      "image/png": "[encoded data removed]",
      "text/plain": [
       "<Figure size 500x400 with 2 Axes>"
      ]
     },
     "metadata": {},
     "output_type": "display_data"
    }
   ],
   "source": [
    "from sklearn.linear_model import LogisticRegression\n",
    "from sklearn.metrics import confusion_matrix, classification_report,make_scorer, precision_score, recall_score, f1_score, accuracy_score\n",
    "\n",
    "logis = LogisticRegression()\n",
    "Y_predLogis = cross_val_predict(logis, X_new,Y_new,cv=5)\n",
    "\n",
    "# Génère les résultats dans un dictionnaire\n",
    "report = classification_report(Y_new, Y_predLogis, output_dict=True)\n",
    "\n",
    "# Transforme le dictionnaire en DataFrame lisible\n",
    "df_report = pd.DataFrame(report).T  # .T = transpose, pour lignes = classes\n",
    "\n",
    "# Affiche correctement le tableau\n",
    "print(df_report.round(3))\n",
    "\n",
    "cm = confusion_matrix(Y_new, Y_predLogis)\n",
    "plt.figure(figsize=(5, 4))\n",
    "sns.heatmap(cm, annot=True, fmt=\"d\", cmap=\"Blues\")\n",
    "plt.xlabel(\"Prédiction\")\n",
    "plt.ylabel(\"Vraie classe\")\n",
    "plt.title(\"🧩 Matrice de confusion\")\n",
    "plt.tight_layout()\n",
    "plt.show()\n",
    "\n"
   ]
  },
  {
   "cell_type": "markdown",
   "id": "63487fe8",
   "metadata": {},
   "source": [
    "Le même constat se fait sur la regression logistique"
   ]
  },
  {
   "cell_type": "markdown",
   "id": "c9b0902a",
   "metadata": {},
   "source": [
    "# catégorisons les audiogrammes selons les classes"
   ]
  },
  {
   "cell_type": "code",
   "execution_count": 33,
   "id": "a148a570",
   "metadata": {},
   "outputs": [],
   "source": [
    "def classer_audiogramme(row):\n",
    "    # Moyennes sur les basses et hautes fréquences\n",
    "    basses_freqs = ['FREQ_250_D_THR', 'FREQ_500_D_THR', 'FREQ_1000_D_THR']\n",
    "    hautes_freqs = ['FREQ_2000_D_THR', 'FREQ_4000_D_THR', 'FREQ_8000_D_THR']\n",
    "    \n",
    "    seuils_basses = row[basses_freqs].mean()\n",
    "    seuils_hautes = row[hautes_freqs].mean()\n",
    "\n",
    "    # Pente entre 1000 Hz et 8000 Hz (environ 3 octaves)\n",
    "    pente = (row['FREQ_8000_D_THR'] - row['FREQ_1000_D_THR']) / 3\n",
    "\n",
    "    # Classification\n",
    "    if seuils_basses <= 10 and seuils_hautes <= 20:\n",
    "        return 'older-normal'\n",
    "    elif seuils_basses <= 10 and 10 <= seuils_hautes <= 25:\n",
    "        return 'pre-metabolic'\n",
    "    elif 10 <= seuils_basses <= 40 and 30 <= seuils_hautes <= 60 and 10 <= pente <= 20:\n",
    "        return 'metabolic'\n",
    "    elif seuils_basses <= 10 and 40 <= seuils_hautes <= 70 and pente > 20:\n",
    "        return 'sensory'\n",
    "    elif 10 <= seuils_basses <= 40 and 40 <= seuils_hautes <= 70 and pente > 20:\n",
    "        return 'metabolic + sensory'\n",
    "    else:\n",
    "        return 'inclassable'\n"
   ]
  },
  {
   "cell_type": "markdown",
   "id": "15c37f18",
   "metadata": {},
   "source": [
    "Types d’audiogrammes classifiés :\n",
    "Audiogrammes \"normaux pour l’âge\" (\"older-normal\")\n",
    "→ Seuils ≤ 10 dB HL de 0,25 à 1,0 kHz\n",
    "→ Et de 0 à 20 dB HL aux fréquences plus élevées.\n",
    "\n",
    "Audiogrammes \"pré-métaboliques\" (\"pre-metabolic\")\n",
    "→ Seuils ≤ 10 dB HL de 0,25 à 1,0 kHz\n",
    "→ Et de 10 à 25 dB HL aux fréquences plus élevées.\n",
    "\n",
    "Audiogrammes \"métaboliques\" (légers à sévères)\n",
    "→ Perte auditive relativement plate dans les basses fréquences, entre 10 et 40 dB HL\n",
    "→ Et perte progressive dans les hautes fréquences entre 30 et 60 dB HL\n",
    "→ Avec une pente de 10 à 20 dB par octave.\n",
    "\n",
    "Audiogrammes \"sensoriels\"\n",
    "→ Seuils normaux dans les basses fréquences (≤10 dB HL)\n",
    "→ Avec une augmentation abrupte des seuils dans les hautes fréquences, formant une encoche ou un plateau entre 40 et 70 dB HL\n",
    "→ Avec une pente de plus de 20 dB par octave.\n",
    "\n",
    "Audiogrammes \"métaboliques + sensoriels\"\n",
    "→ Caractéristiques métaboliques dans les basses fréquences (perte plate de 10 à 40 dB HL)\n",
    "→ Et caractéristiques sensorielles dans les hautes fréquences (perte abrupte, pente > 20 dB/octave).\n",
    "\n"
   ]
  },
  {
   "cell_type": "code",
   "execution_count": 34,
   "id": "ee7cd2cc",
   "metadata": {},
   "outputs": [
    {
     "name": "stderr",
     "output_type": "stream",
     "text": [
      "[codecarbon INFO @ 10:20:36] Energy consumed for RAM : 0.000319 kWh. RAM Power : 5.898098945617677 W\n",
      "[codecarbon INFO @ 10:20:36] Energy consumed for all CPUs : 0.002303 kWh. Total CPU Power : 42.5 W\n",
      "[codecarbon INFO @ 10:20:36] 0.002622 kWh of electricity used since the beginning.\n",
      "[codecarbon INFO @ 10:20:51] Energy consumed for RAM : 0.000343 kWh. RAM Power : 5.898098945617677 W\n",
      "[codecarbon INFO @ 10:20:51] Energy consumed for all CPUs : 0.002482 kWh. Total CPU Power : 42.5 W\n",
      "[codecarbon INFO @ 10:20:51] 0.002826 kWh of electricity used since the beginning.\n",
      "[codecarbon INFO @ 10:21:06] Energy consumed for RAM : 0.000368 kWh. RAM Power : 5.898098945617677 W\n",
      "[codecarbon INFO @ 10:21:06] Energy consumed for all CPUs : 0.002658 kWh. Total CPU Power : 42.5 W\n",
      "[codecarbon INFO @ 10:21:06] 0.003026 kWh of electricity used since the beginning.\n"
     ]
    }
   ],
   "source": [
    "data_THR['CLASSE_AUDIOGRAMME'] = data_THR.apply(classer_audiogramme, axis=1)\n"
   ]
  },
  {
   "cell_type": "code",
   "execution_count": 35,
   "id": "4997d16a",
   "metadata": {},
   "outputs": [],
   "source": [
    "# separons maintenant les datasets\n",
    "data_normal =data_THR[data_THR[\"CLASSE_AUDIOGRAMME\"] == \"older-normal\"]\n",
    "data_pre_metabolic = data_THR[data_THR[\"CLASSE_AUDIOGRAMME\"] == \"pre-metabolic\"]\n",
    "data_metabolic =data_THR[data_THR[\"CLASSE_AUDIOGRAMME\"] == \"metabolic\"]\n",
    "data_sensory =data_THR[data_THR[\"CLASSE_AUDIOGRAMME\"] == \"sensory\"]\n",
    "data_metabolic_sensory =data_THR[data_THR[\"CLASSE_AUDIOGRAMME\"] == \"metabolic + sensory\"]"
   ]
  },
  {
   "cell_type": "markdown",
   "id": "6d15496f",
   "metadata": {},
   "source": [
    "# Type normal"
   ]
  },
  {
   "cell_type": "code",
   "execution_count": 36,
   "id": "cb91b38e",
   "metadata": {},
   "outputs": [
    {
     "name": "stdout",
     "output_type": "stream",
     "text": [
      "              precision  recall  f1-score  support\n",
      "0                 0.611   0.703     0.654   145.00\n",
      "1                 0.656   0.558     0.603   147.00\n",
      "accuracy          0.630   0.630     0.630     0.63\n",
      "macro avg         0.633   0.631     0.628   292.00\n",
      "weighted avg      0.634   0.630     0.628   292.00\n",
      "              precision  recall  f1-score  support\n",
      "0                 0.589   0.614     0.601  145.000\n",
      "1                 0.603   0.578     0.590  147.000\n",
      "accuracy          0.596   0.596     0.596    0.596\n",
      "macro avg         0.596   0.596     0.596  292.000\n",
      "weighted avg      0.596   0.596     0.596  292.000\n"
     ]
    },
    {
     "name": "stderr",
     "output_type": "stream",
     "text": [
      "C:\\Users\\wendy\\AppData\\Local\\Temp\\ipykernel_28240\\2935673186.py:45: UserWarning: Glyph 129513 (\\N{JIGSAW PUZZLE PIECE}) missing from font(s) DejaVu Sans.\n",
      "  plt.tight_layout()\n",
      "c:\\Users\\wendy\\miniconda3\\Lib\\site-packages\\IPython\\core\\pylabtools.py:170: UserWarning: Glyph 129513 (\\N{JIGSAW PUZZLE PIECE}) missing from font(s) DejaVu Sans.\n",
      "  fig.canvas.print_figure(bytes_io, **kw)\n"
     ]
    },
    {
     "data": {
      "image/png": "[encoded data removed]",
      "text/plain": [
       "<Figure size 500x400 with 2 Axes>"
      ]
     },
     "metadata": {},
     "output_type": "display_data"
    }
   ],
   "source": [
    "# analysons maintenant pour le older-normal\n",
    "X,Y = data_normal.select_dtypes(include=\"number\").drop(columns=\"ACOUPHENES\"), data_normal[\"ACOUPHENES\"]\n",
    "\n",
    "scalar = StandardScaler()\n",
    "X = scalar.fit_transform(X)\n",
    "\n",
    "# ***********************************************************randomforest\n",
    "\n",
    "# modèle\n",
    "clf = RandomForestClassifier(random_state=42)\n",
    "\n",
    "\n",
    "Y_pred = cross_val_predict(clf, X,Y,cv=5)\n",
    "\n",
    "# Génère les résultats dans un dictionnaire\n",
    "report = classification_report(Y, Y_pred, output_dict=True)\n",
    "\n",
    "# Transforme le dictionnaire en DataFrame lisible\n",
    "df_report = pd.DataFrame(report).T  # .T = transpose, pour lignes = classes\n",
    "\n",
    "\n",
    "# Affiche correctement le tableau\n",
    "print(df_report.round(3))\n",
    "\n",
    "# **************************************************regressionlogistique\n",
    "\n",
    "logis = LogisticRegression()\n",
    "Y_predLogis = cross_val_predict(logis, X,Y,cv=5)\n",
    "\n",
    "# Génère les résultats dans un dictionnaire\n",
    "report = classification_report(Y, Y_predLogis, output_dict=True)\n",
    "\n",
    "# Transforme le dictionnaire en DataFrame lisible\n",
    "df_report = pd.DataFrame(report).T  # .T = transpose, pour lignes = classes\n",
    "\n",
    "# Affiche correctement le tableau\n",
    "print(df_report.round(3))\n",
    "\n",
    "cm = confusion_matrix(Y, Y_predLogis)\n",
    "plt.figure(figsize=(5, 4))\n",
    "sns.heatmap(cm, annot=True, fmt=\"d\", cmap=\"Blues\")\n",
    "plt.xlabel(\"Prédiction\")\n",
    "plt.ylabel(\"Vraie classe\")\n",
    "plt.title(\"🧩 Matrice de confusion\")\n",
    "plt.tight_layout()\n",
    "plt.show()\n",
    "\n",
    "\n"
   ]
  },
  {
   "cell_type": "markdown",
   "id": "b33a0346",
   "metadata": {},
   "source": [
    " en étudiant les personnes en fonction de sa classe on se rend compte que les performances du modèle se sont améliorés pour le type normal, l'accuracy est passé de 0.5 à 0.6 environ et le recall de la classe acouphène s'est amélioré: on est passé de 0.4 à 0.6 environ"
   ]
  },
  {
   "cell_type": "markdown",
   "id": "e12717d7",
   "metadata": {},
   "source": []
  },
  {
   "cell_type": "markdown",
   "id": "dd1e7815",
   "metadata": {},
   "source": [
    "# Type prémetabolic"
   ]
  },
  {
   "cell_type": "code",
   "execution_count": 37,
   "id": "3a5269b3",
   "metadata": {},
   "outputs": [
    {
     "name": "stderr",
     "output_type": "stream",
     "text": [
      "[codecarbon INFO @ 10:21:21] Energy consumed for RAM : 0.000392 kWh. RAM Power : 5.898098945617677 W\n",
      "[codecarbon INFO @ 10:21:21] Energy consumed for all CPUs : 0.002832 kWh. Total CPU Power : 42.5 W\n",
      "[codecarbon INFO @ 10:21:21] 0.003224 kWh of electricity used since the beginning.\n",
      "[codecarbon INFO @ 10:21:21] 0.000751 g.CO2eq/s mean an estimation of 23.682029255567684 kg.CO2eq/year\n"
     ]
    },
    {
     "name": "stdout",
     "output_type": "stream",
     "text": [
      "              precision  recall  f1-score  support\n",
      "0                 0.471   0.432     0.451   37.000\n",
      "1                 0.500   0.538     0.519   39.000\n",
      "accuracy          0.487   0.487     0.487    0.487\n",
      "macro avg         0.485   0.485     0.485   76.000\n",
      "weighted avg      0.486   0.487     0.486   76.000\n",
      "              precision  recall  f1-score  support\n",
      "0                 0.351   0.351     0.351   37.000\n",
      "1                 0.385   0.385     0.385   39.000\n",
      "accuracy          0.368   0.368     0.368    0.368\n",
      "macro avg         0.368   0.368     0.368   76.000\n",
      "weighted avg      0.368   0.368     0.368   76.000\n"
     ]
    },
    {
     "name": "stderr",
     "output_type": "stream",
     "text": [
      "C:\\Users\\wendy\\AppData\\Local\\Temp\\ipykernel_28240\\233929903.py:45: UserWarning: Glyph 129513 (\\N{JIGSAW PUZZLE PIECE}) missing from font(s) DejaVu Sans.\n",
      "  plt.tight_layout()\n",
      "c:\\Users\\wendy\\miniconda3\\Lib\\site-packages\\IPython\\core\\pylabtools.py:170: UserWarning: Glyph 129513 (\\N{JIGSAW PUZZLE PIECE}) missing from font(s) DejaVu Sans.\n",
      "  fig.canvas.print_figure(bytes_io, **kw)\n"
     ]
    },
    {
     "data": {
      "image/png": "[encoded data removed]",
      "text/plain": [
       "<Figure size 500x400 with 2 Axes>"
      ]
     },
     "metadata": {},
     "output_type": "display_data"
    }
   ],
   "source": [
    "# analysons maintenant pour le older-normal\n",
    "X,Y = data_pre_metabolic.select_dtypes(include=\"number\").drop(columns=\"ACOUPHENES\"), data_pre_metabolic[\"ACOUPHENES\"]\n",
    "\n",
    "scalar = StandardScaler()\n",
    "X = scalar.fit_transform(X)\n",
    "\n",
    "# ***********************************************************randomforest\n",
    "\n",
    "# modèle\n",
    "clf = RandomForestClassifier(random_state=42)\n",
    "\n",
    "\n",
    "Y_pred = cross_val_predict(clf, X,Y,cv=5)\n",
    "\n",
    "# Génère les résultats dans un dictionnaire\n",
    "report = classification_report(Y, Y_pred, output_dict=True)\n",
    "\n",
    "# Transforme le dictionnaire en DataFrame lisible\n",
    "df_report = pd.DataFrame(report).T  # .T = transpose, pour lignes = classes\n",
    "\n",
    "\n",
    "# Affiche correctement le tableau\n",
    "print(df_report.round(3))\n",
    "\n",
    "# **************************************************regressionlogistique\n",
    "\n",
    "logis = LogisticRegression()\n",
    "Y_predLogis = cross_val_predict(logis, X,Y,cv=5)\n",
    "\n",
    "# Génère les résultats dans un dictionnaire\n",
    "report = classification_report(Y, Y_predLogis, output_dict=True)\n",
    "\n",
    "# Transforme le dictionnaire en DataFrame lisible\n",
    "df_report = pd.DataFrame(report).T  # .T = transpose, pour lignes = classes\n",
    "\n",
    "# Affiche correctement le tableau\n",
    "print(df_report.round(3))\n",
    "\n",
    "cm = confusion_matrix(Y, Y_predLogis)\n",
    "plt.figure(figsize=(5, 4))\n",
    "sns.heatmap(cm, annot=True, fmt=\"d\", cmap=\"Blues\")\n",
    "plt.xlabel(\"Prédiction\")\n",
    "plt.ylabel(\"Vraie classe\")\n",
    "plt.title(\"🧩 Matrice de confusion\")\n",
    "plt.tight_layout()\n",
    "plt.show()\n",
    "\n",
    "\n"
   ]
  },
  {
   "cell_type": "markdown",
   "id": "a892f21e",
   "metadata": {},
   "source": [
    "# Type metabolic"
   ]
  },
  {
   "cell_type": "code",
   "execution_count": 38,
   "id": "1f6ad52f",
   "metadata": {},
   "outputs": [
    {
     "name": "stderr",
     "output_type": "stream",
     "text": [
      "[codecarbon INFO @ 10:21:36] Energy consumed for RAM : 0.000416 kWh. RAM Power : 5.898098945617677 W\n",
      "[codecarbon INFO @ 10:21:36] Energy consumed for all CPUs : 0.003010 kWh. Total CPU Power : 42.5 W\n",
      "[codecarbon INFO @ 10:21:36] 0.003426 kWh of electricity used since the beginning.\n"
     ]
    },
    {
     "name": "stdout",
     "output_type": "stream",
     "text": [
      "              precision  recall  f1-score    support\n",
      "0                 0.559   0.597     0.577   7272.000\n",
      "1                 0.549   0.510     0.529   6999.000\n",
      "accuracy          0.554   0.554     0.554      0.554\n",
      "macro avg         0.554   0.553     0.553  14271.000\n",
      "weighted avg      0.554   0.554     0.553  14271.000\n",
      "              precision  recall  f1-score    support\n",
      "0                 0.578   0.624     0.600   7272.000\n",
      "1                 0.574   0.525     0.549   6999.000\n",
      "accuracy          0.576   0.576     0.576      0.576\n",
      "macro avg         0.576   0.575     0.574  14271.000\n",
      "weighted avg      0.576   0.576     0.575  14271.000\n"
     ]
    },
    {
     "name": "stderr",
     "output_type": "stream",
     "text": [
      "C:\\Users\\wendy\\AppData\\Local\\Temp\\ipykernel_28240\\1465511514.py:45: UserWarning: Glyph 129513 (\\N{JIGSAW PUZZLE PIECE}) missing from font(s) DejaVu Sans.\n",
      "  plt.tight_layout()\n",
      "c:\\Users\\wendy\\miniconda3\\Lib\\site-packages\\IPython\\core\\pylabtools.py:170: UserWarning: Glyph 129513 (\\N{JIGSAW PUZZLE PIECE}) missing from font(s) DejaVu Sans.\n",
      "  fig.canvas.print_figure(bytes_io, **kw)\n"
     ]
    },
    {
     "data": {
      "image/png": "[encoded data removed]",
      "text/plain": [
       "<Figure size 500x400 with 2 Axes>"
      ]
     },
     "metadata": {},
     "output_type": "display_data"
    }
   ],
   "source": [
    "# analysons maintenant pour le older-normal\n",
    "X,Y = data_metabolic.select_dtypes(include=\"number\").drop(columns=\"ACOUPHENES\"), data_metabolic[\"ACOUPHENES\"]\n",
    "\n",
    "scalar = StandardScaler()\n",
    "X = scalar.fit_transform(X)\n",
    "\n",
    "# ***********************************************************randomforest\n",
    "\n",
    "# modèle\n",
    "clf = RandomForestClassifier(random_state=42)\n",
    "\n",
    "\n",
    "Y_pred = cross_val_predict(clf, X,Y,cv=5)\n",
    "\n",
    "# Génère les résultats dans un dictionnaire\n",
    "report = classification_report(Y, Y_pred, output_dict=True)\n",
    "\n",
    "# Transforme le dictionnaire en DataFrame lisible\n",
    "df_report = pd.DataFrame(report).T  # .T = transpose, pour lignes = classes\n",
    "\n",
    "\n",
    "# Affiche correctement le tableau\n",
    "print(df_report.round(3))\n",
    "\n",
    "# **************************************************regressionlogistique\n",
    "\n",
    "logis = LogisticRegression()\n",
    "Y_predLogis = cross_val_predict(logis, X,Y,cv=5)\n",
    "\n",
    "# Génère les résultats dans un dictionnaire\n",
    "report = classification_report(Y, Y_predLogis, output_dict=True)\n",
    "\n",
    "# Transforme le dictionnaire en DataFrame lisible\n",
    "df_report = pd.DataFrame(report).T  # .T = transpose, pour lignes = classes\n",
    "\n",
    "# Affiche correctement le tableau\n",
    "print(df_report.round(3))\n",
    "\n",
    "cm = confusion_matrix(Y, Y_predLogis)\n",
    "plt.figure(figsize=(5, 4))\n",
    "sns.heatmap(cm, annot=True, fmt=\"d\", cmap=\"Blues\")\n",
    "plt.xlabel(\"Prédiction\")\n",
    "plt.ylabel(\"Vraie classe\")\n",
    "plt.title(\"🧩 Matrice de confusion\")\n",
    "plt.tight_layout()\n",
    "plt.show()\n",
    "\n",
    "\n"
   ]
  },
  {
   "cell_type": "markdown",
   "id": "e0c987fc",
   "metadata": {},
   "source": [
    "# Type sensority"
   ]
  },
  {
   "cell_type": "code",
   "execution_count": 39,
   "id": "6ba0508b",
   "metadata": {},
   "outputs": [
    {
     "name": "stdout",
     "output_type": "stream",
     "text": [
      "              precision  recall  f1-score  support\n",
      "0                 0.429   0.422     0.425   64.000\n",
      "1                 0.464   0.471     0.467   68.000\n",
      "accuracy          0.447   0.447     0.447    0.447\n",
      "macro avg         0.446   0.446     0.446  132.000\n",
      "weighted avg      0.447   0.447     0.447  132.000\n",
      "              precision  recall  f1-score  support\n",
      "0                 0.413   0.406     0.409   64.000\n",
      "1                 0.449   0.456     0.453   68.000\n",
      "accuracy          0.432   0.432     0.432    0.432\n",
      "macro avg         0.431   0.431     0.431  132.000\n",
      "weighted avg      0.432   0.432     0.432  132.000\n"
     ]
    },
    {
     "name": "stderr",
     "output_type": "stream",
     "text": [
      "C:\\Users\\wendy\\AppData\\Local\\Temp\\ipykernel_28240\\1119678963.py:45: UserWarning: Glyph 129513 (\\N{JIGSAW PUZZLE PIECE}) missing from font(s) DejaVu Sans.\n",
      "  plt.tight_layout()\n",
      "c:\\Users\\wendy\\miniconda3\\Lib\\site-packages\\IPython\\core\\pylabtools.py:170: UserWarning: Glyph 129513 (\\N{JIGSAW PUZZLE PIECE}) missing from font(s) DejaVu Sans.\n",
      "  fig.canvas.print_figure(bytes_io, **kw)\n"
     ]
    },
    {
     "data": {
      "image/png": "[encoded data removed]",
      "text/plain": [
       "<Figure size 500x400 with 2 Axes>"
      ]
     },
     "metadata": {},
     "output_type": "display_data"
    }
   ],
   "source": [
    "# analysons maintenant pour le older-normal\n",
    "X,Y = data_sensory.select_dtypes(include=\"number\").drop(columns=\"ACOUPHENES\"), data_sensory[\"ACOUPHENES\"]\n",
    "\n",
    "scalar = StandardScaler()\n",
    "X = scalar.fit_transform(X)\n",
    "\n",
    "# ***********************************************************randomforest\n",
    "\n",
    "# modèle\n",
    "clf = RandomForestClassifier(random_state=42)\n",
    "\n",
    "\n",
    "Y_pred = cross_val_predict(clf, X,Y,cv=5)\n",
    "\n",
    "# Génère les résultats dans un dictionnaire\n",
    "report = classification_report(Y, Y_pred, output_dict=True)\n",
    "\n",
    "# Transforme le dictionnaire en DataFrame lisible\n",
    "df_report = pd.DataFrame(report).T  # .T = transpose, pour lignes = classes\n",
    "\n",
    "\n",
    "# Affiche correctement le tableau\n",
    "print(df_report.round(3))\n",
    "\n",
    "# **************************************************regressionlogistique\n",
    "\n",
    "logis = LogisticRegression()\n",
    "Y_predLogis = cross_val_predict(logis, X,Y,cv=5)\n",
    "\n",
    "# Génère les résultats dans un dictionnaire\n",
    "report = classification_report(Y, Y_predLogis, output_dict=True)\n",
    "\n",
    "# Transforme le dictionnaire en DataFrame lisible\n",
    "df_report = pd.DataFrame(report).T  # .T = transpose, pour lignes = classes\n",
    "\n",
    "# Affiche correctement le tableau\n",
    "print(df_report.round(3))\n",
    "\n",
    "cm = confusion_matrix(Y, Y_predLogis)\n",
    "plt.figure(figsize=(5, 4))\n",
    "sns.heatmap(cm, annot=True, fmt=\"d\", cmap=\"Blues\")\n",
    "plt.xlabel(\"Prédiction\")\n",
    "plt.ylabel(\"Vraie classe\")\n",
    "plt.title(\"🧩 Matrice de confusion\")\n",
    "plt.tight_layout()\n",
    "plt.show()\n",
    "\n",
    "\n"
   ]
  },
  {
   "cell_type": "markdown",
   "id": "38ed210a",
   "metadata": {},
   "source": [
    "# Type metabolic et sensority"
   ]
  },
  {
   "cell_type": "code",
   "execution_count": 40,
   "id": "a2d5820d",
   "metadata": {},
   "outputs": [
    {
     "name": "stdout",
     "output_type": "stream",
     "text": [
      "              precision  recall  f1-score   support\n",
      "0                 0.551   0.588     0.569   769.000\n",
      "1                 0.535   0.497     0.515   733.000\n",
      "accuracy          0.543   0.543     0.543     0.543\n",
      "macro avg         0.543   0.542     0.542  1502.000\n",
      "weighted avg      0.543   0.543     0.542  1502.000\n",
      "              precision  recall  f1-score   support\n",
      "0                 0.573   0.599     0.586   769.000\n",
      "1                 0.559   0.532     0.545   733.000\n",
      "accuracy          0.567   0.567     0.567     0.567\n",
      "macro avg         0.566   0.566     0.566  1502.000\n",
      "weighted avg      0.566   0.567     0.566  1502.000\n"
     ]
    },
    {
     "name": "stderr",
     "output_type": "stream",
     "text": [
      "C:\\Users\\wendy\\AppData\\Local\\Temp\\ipykernel_28240\\2873496740.py:45: UserWarning: Glyph 129513 (\\N{JIGSAW PUZZLE PIECE}) missing from font(s) DejaVu Sans.\n",
      "  plt.tight_layout()\n",
      "c:\\Users\\wendy\\miniconda3\\Lib\\site-packages\\IPython\\core\\pylabtools.py:170: UserWarning: Glyph 129513 (\\N{JIGSAW PUZZLE PIECE}) missing from font(s) DejaVu Sans.\n",
      "  fig.canvas.print_figure(bytes_io, **kw)\n"
     ]
    },
    {
     "data": {
      "image/png": "[encoded data removed]",
      "text/plain": [
       "<Figure size 500x400 with 2 Axes>"
      ]
     },
     "metadata": {},
     "output_type": "display_data"
    },
    {
     "name": "stderr",
     "output_type": "stream",
     "text": [
      "[codecarbon INFO @ 10:21:51] Energy consumed for RAM : 0.000441 kWh. RAM Power : 5.898098945617677 W\n"
     ]
    },
    {
     "name": "stderr",
     "output_type": "stream",
     "text": [
      "[codecarbon INFO @ 10:21:51] Energy consumed for all CPUs : 0.003187 kWh. Total CPU Power : 42.5 W\n"
     ]
    }
   ],
   "source": [
    "# analysons maintenant pour le older-normal\n",
    "X,Y = data_metabolic_sensory.select_dtypes(include=\"number\").drop(columns=\"ACOUPHENES\"), data_metabolic_sensory[\"ACOUPHENES\"]\n",
    "\n",
    "scalar = StandardScaler()\n",
    "X = scalar.fit_transform(X)\n",
    "\n",
    "# ***********************************************************randomforest\n",
    "\n",
    "# modèle\n",
    "clf = RandomForestClassifier(random_state=42)\n",
    "\n",
    "\n",
    "Y_pred = cross_val_predict(clf, X,Y,cv=5)\n",
    "\n",
    "# Génère les résultats dans un dictionnaire\n",
    "report = classification_report(Y, Y_pred, output_dict=True)\n",
    "\n",
    "# Transforme le dictionnaire en DataFrame lisible\n",
    "df_report = pd.DataFrame(report).T  # .T = transpose, pour lignes = classes\n",
    "\n",
    "\n",
    "# Affiche correctement le tableau\n",
    "print(df_report.round(3))\n",
    "\n",
    "# **************************************************regressionlogistique\n",
    "\n",
    "logis = LogisticRegression()\n",
    "Y_predLogis = cross_val_predict(logis, X,Y,cv=5)\n",
    "\n",
    "# Génère les résultats dans un dictionnaire\n",
    "report = classification_report(Y, Y_predLogis, output_dict=True)\n",
    "\n",
    "# Transforme le dictionnaire en DataFrame lisible\n",
    "df_report = pd.DataFrame(report).T  # .T = transpose, pour lignes = classes\n",
    "\n",
    "# Affiche correctement le tableau\n",
    "print(df_report.round(3))\n",
    "\n",
    "cm = confusion_matrix(Y, Y_predLogis)\n",
    "plt.figure(figsize=(5, 4))\n",
    "sns.heatmap(cm, annot=True, fmt=\"d\", cmap=\"Blues\")\n",
    "plt.xlabel(\"Prédiction\")\n",
    "plt.ylabel(\"Vraie classe\")\n",
    "plt.title(\"🧩 Matrice de confusion\")\n",
    "plt.tight_layout()\n",
    "plt.show()\n",
    "\n",
    "\n"
   ]
  },
  {
   "cell_type": "markdown",
   "id": "cabb6663",
   "metadata": {},
   "source": [
    "on constate donc que pour les autres types d'audiogrammes, notamment les pre_metabolic les performances se sont dégradés encore plus avec la regression logistique avec des metriques très faibles (0.3) pour le metabolic ils se sont légèrement amélioré et tournent autour du hazard 0.5, pour le sensority, on a vu que le sensority, les performance ont chuté vers 0.4 pour l'accuracy, et enfin pour le metabolic et sensority on remonte aux alantour de 0.5\n",
    "\n",
    "en conclusion, on se rend compte que les meilleures prédictions sont celles pour les personnes normales, sans perte auditives, et on observe aussi que pour la pertes auditives, pour les pertes de type premetabolic et sensority on est en dessous du hazard, le modèle n'arrive vraiment pas à trouver à généraliser à cause probablement des faibles échantillons"
   ]
  }
 ],
 "metadata": {
  "kernelspec": {
   "display_name": "base",
   "language": "python",
   "name": "python3"
  },
  "language_info": {
   "codemirror_mode": {
    "name": "ipython",
    "version": 3
   },
   "file_extension": ".py",
   "mimetype": "text/x-python",
   "name": "python",
   "nbconvert_exporter": "python",
   "pygments_lexer": "ipython3",
   "version": "3.12.7"
  }
 },
 "nbformat": 4,
 "nbformat_minor": 5
}
